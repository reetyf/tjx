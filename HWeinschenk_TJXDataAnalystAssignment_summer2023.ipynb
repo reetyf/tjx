{
 "cells": [
  {
   "cell_type": "markdown",
   "id": "2c9b5bf6",
   "metadata": {},
   "source": [
    "This Notebook is my submission to the Data Analyst Assignment for TJX Companies. The dataset will be cleaned and exploratory data analysis will be performed. This includes finding and purging duplicates, accounting for missing field values, and label manipulation. Then, more in depth analysis will be performed in order to provide recommendations to improve various business practices."
   ]
  },
  {
   "cell_type": "markdown",
   "id": "91b42fa7",
   "metadata": {},
   "source": [
    "The first step is to import the dataset. This is done using pandas, specifically the `read_excel` function. The data is from the second sheet of the Excel file named `Data`."
   ]
  },
  {
   "cell_type": "code",
   "execution_count": 1,
   "id": "4803c067",
   "metadata": {},
   "outputs": [
    {
     "name": "stdout",
     "output_type": "stream",
     "text": [
      "Intel MKL WARNING: Support of Intel(R) Streaming SIMD Extensions 4.2 (Intel(R) SSE4.2) enabled only processors has been deprecated. Intel oneAPI Math Kernel Library 2025.0 will require Intel(R) Advanced Vector Extensions (Intel(R) AVX) instructions.\n",
      "Intel MKL WARNING: Support of Intel(R) Streaming SIMD Extensions 4.2 (Intel(R) SSE4.2) enabled only processors has been deprecated. Intel oneAPI Math Kernel Library 2025.0 will require Intel(R) Advanced Vector Extensions (Intel(R) AVX) instructions.\n"
     ]
    }
   ],
   "source": [
    "import pandas as pd\n",
    "\n",
    "df = pd.read_excel('DataAnalystQuestion.xlsx',sheet_name = \"Data\")"
   ]
  },
  {
   "cell_type": "markdown",
   "id": "a4f9d027",
   "metadata": {},
   "source": [
    "View the first view entries to ensure proper importation and to gain a sense of the fields:"
   ]
  },
  {
   "cell_type": "code",
   "execution_count": 2,
   "id": "c9fd3386",
   "metadata": {},
   "outputs": [
    {
     "data": {
      "text/html": [
       "<div>\n",
       "<style scoped>\n",
       "    .dataframe tbody tr th:only-of-type {\n",
       "        vertical-align: middle;\n",
       "    }\n",
       "\n",
       "    .dataframe tbody tr th {\n",
       "        vertical-align: top;\n",
       "    }\n",
       "\n",
       "    .dataframe thead th {\n",
       "        text-align: right;\n",
       "    }\n",
       "</style>\n",
       "<table border=\"1\" class=\"dataframe\">\n",
       "  <thead>\n",
       "    <tr style=\"text-align: right;\">\n",
       "      <th></th>\n",
       "      <th>Department</th>\n",
       "      <th>Class</th>\n",
       "      <th>Size</th>\n",
       "      <th>Inventory Units</th>\n",
       "      <th>Full Price Inventory Units</th>\n",
       "      <th>Markdown Inventory Units</th>\n",
       "      <th>Inventory Value</th>\n",
       "      <th>Full Price Inventory Value</th>\n",
       "      <th>Markdown Inventory Value</th>\n",
       "      <th>Units Sold</th>\n",
       "      <th>Full Price Units Sold</th>\n",
       "      <th>Markdown Units Sold</th>\n",
       "      <th>Sales</th>\n",
       "      <th>Full Price Sales</th>\n",
       "      <th>Markdown Sales</th>\n",
       "    </tr>\n",
       "  </thead>\n",
       "  <tbody>\n",
       "    <tr>\n",
       "      <th>0</th>\n",
       "      <td>Casual Wear</td>\n",
       "      <td>Denim</td>\n",
       "      <td>24</td>\n",
       "      <td>64</td>\n",
       "      <td>64</td>\n",
       "      <td>0</td>\n",
       "      <td>1327.62</td>\n",
       "      <td>1327.62</td>\n",
       "      <td>0.0</td>\n",
       "      <td>5</td>\n",
       "      <td>5</td>\n",
       "      <td>0</td>\n",
       "      <td>114.95</td>\n",
       "      <td>114.95</td>\n",
       "      <td>0.0</td>\n",
       "    </tr>\n",
       "    <tr>\n",
       "      <th>1</th>\n",
       "      <td>Casual Wear</td>\n",
       "      <td>Denim</td>\n",
       "      <td>24X28</td>\n",
       "      <td>21</td>\n",
       "      <td>21</td>\n",
       "      <td>0</td>\n",
       "      <td>517.29</td>\n",
       "      <td>517.29</td>\n",
       "      <td>0.0</td>\n",
       "      <td>2</td>\n",
       "      <td>2</td>\n",
       "      <td>0</td>\n",
       "      <td>28.74</td>\n",
       "      <td>28.74</td>\n",
       "      <td>0.0</td>\n",
       "    </tr>\n",
       "    <tr>\n",
       "      <th>2</th>\n",
       "      <td>Casual Wear</td>\n",
       "      <td>Denim</td>\n",
       "      <td>24x30</td>\n",
       "      <td>73</td>\n",
       "      <td>68</td>\n",
       "      <td>5</td>\n",
       "      <td>1618.08</td>\n",
       "      <td>1518.08</td>\n",
       "      <td>100.0</td>\n",
       "      <td>4</td>\n",
       "      <td>0</td>\n",
       "      <td>4</td>\n",
       "      <td>75.00</td>\n",
       "      <td>0.00</td>\n",
       "      <td>75.0</td>\n",
       "    </tr>\n",
       "    <tr>\n",
       "      <th>3</th>\n",
       "      <td>Casual Wear</td>\n",
       "      <td>Denim</td>\n",
       "      <td>25</td>\n",
       "      <td>68</td>\n",
       "      <td>68</td>\n",
       "      <td>0</td>\n",
       "      <td>1495.58</td>\n",
       "      <td>1495.58</td>\n",
       "      <td>0.0</td>\n",
       "      <td>1</td>\n",
       "      <td>1</td>\n",
       "      <td>0</td>\n",
       "      <td>18.99</td>\n",
       "      <td>18.99</td>\n",
       "      <td>0.0</td>\n",
       "    </tr>\n",
       "    <tr>\n",
       "      <th>4</th>\n",
       "      <td>Casual Wear</td>\n",
       "      <td>Denim</td>\n",
       "      <td>25x28</td>\n",
       "      <td>64</td>\n",
       "      <td>64</td>\n",
       "      <td>0</td>\n",
       "      <td>1599.36</td>\n",
       "      <td>1599.36</td>\n",
       "      <td>0.0</td>\n",
       "      <td>2</td>\n",
       "      <td>2</td>\n",
       "      <td>0</td>\n",
       "      <td>49.98</td>\n",
       "      <td>49.98</td>\n",
       "      <td>0.0</td>\n",
       "    </tr>\n",
       "  </tbody>\n",
       "</table>\n",
       "</div>"
      ],
      "text/plain": [
       "    Department  Class   Size  Inventory Units  Full Price Inventory Units  \\\n",
       "0  Casual Wear  Denim     24               64                          64   \n",
       "1  Casual Wear  Denim  24X28               21                          21   \n",
       "2  Casual Wear  Denim  24x30               73                          68   \n",
       "3  Casual Wear  Denim     25               68                          68   \n",
       "4  Casual Wear  Denim  25x28               64                          64   \n",
       "\n",
       "   Markdown Inventory Units  Inventory Value  Full Price Inventory Value  \\\n",
       "0                         0          1327.62                     1327.62   \n",
       "1                         0           517.29                      517.29   \n",
       "2                         5          1618.08                     1518.08   \n",
       "3                         0          1495.58                     1495.58   \n",
       "4                         0          1599.36                     1599.36   \n",
       "\n",
       "   Markdown Inventory Value  Units Sold  Full Price Units Sold  \\\n",
       "0                       0.0           5                      5   \n",
       "1                       0.0           2                      2   \n",
       "2                     100.0           4                      0   \n",
       "3                       0.0           1                      1   \n",
       "4                       0.0           2                      2   \n",
       "\n",
       "   Markdown Units Sold   Sales  Full Price Sales  Markdown Sales  \n",
       "0                    0  114.95            114.95             0.0  \n",
       "1                    0   28.74             28.74             0.0  \n",
       "2                    4   75.00              0.00            75.0  \n",
       "3                    0   18.99             18.99             0.0  \n",
       "4                    0   49.98             49.98             0.0  "
      ]
     },
     "execution_count": 2,
     "metadata": {},
     "output_type": "execute_result"
    }
   ],
   "source": [
    "df.head()"
   ]
  },
  {
   "cell_type": "markdown",
   "id": "d7351f30",
   "metadata": {},
   "source": [
    "The data appears to be imported correctly. It involves both standard and discount sales for various departments and clothes types. This is useful to reveal effectiveness of sales to perhaps shine light on systematic problems preventing profit within one Department or clothes type."
   ]
  },
  {
   "cell_type": "code",
   "execution_count": 3,
   "id": "a713c37e",
   "metadata": {
    "scrolled": true
   },
   "outputs": [
    {
     "name": "stdout",
     "output_type": "stream",
     "text": [
      "<class 'pandas.core.frame.DataFrame'>\n",
      "RangeIndex: 1746 entries, 0 to 1745\n",
      "Data columns (total 15 columns):\n",
      " #   Column                      Non-Null Count  Dtype  \n",
      "---  ------                      --------------  -----  \n",
      " 0   Department                  1746 non-null   object \n",
      " 1   Class                       1746 non-null   object \n",
      " 2   Size                        1688 non-null   object \n",
      " 3   Inventory Units             1746 non-null   int64  \n",
      " 4   Full Price Inventory Units  1746 non-null   int64  \n",
      " 5   Markdown Inventory Units    1746 non-null   int64  \n",
      " 6   Inventory Value             1746 non-null   float64\n",
      " 7   Full Price Inventory Value  1746 non-null   float64\n",
      " 8   Markdown Inventory Value    1746 non-null   float64\n",
      " 9   Units Sold                  1746 non-null   int64  \n",
      " 10  Full Price Units Sold       1746 non-null   int64  \n",
      " 11  Markdown Units Sold         1746 non-null   int64  \n",
      " 12  Sales                       1746 non-null   float64\n",
      " 13  Full Price Sales            1746 non-null   float64\n",
      " 14  Markdown Sales              1746 non-null   float64\n",
      "dtypes: float64(6), int64(6), object(3)\n",
      "memory usage: 204.7+ KB\n"
     ]
    }
   ],
   "source": [
    "# view data types of the columns\n",
    "df.info()"
   ]
  },
  {
   "cell_type": "markdown",
   "id": "5368214f",
   "metadata": {},
   "source": [
    "There are seemingly 3 object (string) columns: `Department`, `Class`, and `Size`. Even though `Size` can be numeric, it represents a categorical variable. For this reason, its string classification is correct."
   ]
  },
  {
   "cell_type": "code",
   "execution_count": 4,
   "id": "8118410b",
   "metadata": {},
   "outputs": [
    {
     "data": {
      "text/html": [
       "<div>\n",
       "<style scoped>\n",
       "    .dataframe tbody tr th:only-of-type {\n",
       "        vertical-align: middle;\n",
       "    }\n",
       "\n",
       "    .dataframe tbody tr th {\n",
       "        vertical-align: top;\n",
       "    }\n",
       "\n",
       "    .dataframe thead th {\n",
       "        text-align: right;\n",
       "    }\n",
       "</style>\n",
       "<table border=\"1\" class=\"dataframe\">\n",
       "  <thead>\n",
       "    <tr style=\"text-align: right;\">\n",
       "      <th></th>\n",
       "      <th>Department</th>\n",
       "      <th>Class</th>\n",
       "      <th>Size</th>\n",
       "    </tr>\n",
       "  </thead>\n",
       "  <tbody>\n",
       "    <tr>\n",
       "      <th>0</th>\n",
       "      <td>Casual Wear</td>\n",
       "      <td>Denim</td>\n",
       "      <td>24</td>\n",
       "    </tr>\n",
       "    <tr>\n",
       "      <th>1</th>\n",
       "      <td>Casual Wear</td>\n",
       "      <td>Denim</td>\n",
       "      <td>24X28</td>\n",
       "    </tr>\n",
       "    <tr>\n",
       "      <th>2</th>\n",
       "      <td>Casual Wear</td>\n",
       "      <td>Denim</td>\n",
       "      <td>24x30</td>\n",
       "    </tr>\n",
       "    <tr>\n",
       "      <th>3</th>\n",
       "      <td>Casual Wear</td>\n",
       "      <td>Denim</td>\n",
       "      <td>25</td>\n",
       "    </tr>\n",
       "    <tr>\n",
       "      <th>4</th>\n",
       "      <td>Casual Wear</td>\n",
       "      <td>Denim</td>\n",
       "      <td>25x28</td>\n",
       "    </tr>\n",
       "  </tbody>\n",
       "</table>\n",
       "</div>"
      ],
      "text/plain": [
       "    Department  Class   Size\n",
       "0  Casual Wear  Denim     24\n",
       "1  Casual Wear  Denim  24X28\n",
       "2  Casual Wear  Denim  24x30\n",
       "3  Casual Wear  Denim     25\n",
       "4  Casual Wear  Denim  25x28"
      ]
     },
     "execution_count": 4,
     "metadata": {},
     "output_type": "execute_result"
    }
   ],
   "source": [
    "df.select_dtypes(include = 'object').head()"
   ]
  },
  {
   "cell_type": "markdown",
   "id": "2a361c03",
   "metadata": {},
   "source": [
    "# Missing Field Values"
   ]
  },
  {
   "cell_type": "markdown",
   "id": "653a6564",
   "metadata": {},
   "source": [
    "Firstly, null values will be searched for and handled."
   ]
  },
  {
   "cell_type": "code",
   "execution_count": 5,
   "id": "016beb41",
   "metadata": {},
   "outputs": [
    {
     "name": "stdout",
     "output_type": "stream",
     "text": [
      "Department                     0\n",
      "Class                          0\n",
      "Size                          58\n",
      "Inventory Units                0\n",
      "Full Price Inventory Units     0\n",
      "Markdown Inventory Units       0\n",
      "Inventory Value                0\n",
      "Full Price Inventory Value     0\n",
      "Markdown Inventory Value       0\n",
      "Units Sold                     0\n",
      "Full Price Units Sold          0\n",
      "Markdown Units Sold            0\n",
      "Sales                          0\n",
      "Full Price Sales               0\n",
      "Markdown Sales                 0\n",
      "dtype: int64\n",
      "There are 58 missing entries in the dataset appearing in the column(s) `Size`.\n"
     ]
    }
   ],
   "source": [
    "nulls = df.isnull().sum() # columnwise sum\n",
    "print(nulls)\n",
    "null_col = nulls[nulls.values != 0].index[0]\n",
    "print(f'There are {nulls.sum()} missing entries in the dataset appearing in the column(s) `{null_col}`.')"
   ]
  },
  {
   "cell_type": "markdown",
   "id": "7f18a774",
   "metadata": {},
   "source": [
    "Now, we can view the missing entries in the column that they appear."
   ]
  },
  {
   "cell_type": "code",
   "execution_count": 6,
   "id": "95dbf339",
   "metadata": {
    "scrolled": false
   },
   "outputs": [
    {
     "data": {
      "text/html": [
       "<div>\n",
       "<style scoped>\n",
       "    .dataframe tbody tr th:only-of-type {\n",
       "        vertical-align: middle;\n",
       "    }\n",
       "\n",
       "    .dataframe tbody tr th {\n",
       "        vertical-align: top;\n",
       "    }\n",
       "\n",
       "    .dataframe thead th {\n",
       "        text-align: right;\n",
       "    }\n",
       "</style>\n",
       "<table border=\"1\" class=\"dataframe\">\n",
       "  <thead>\n",
       "    <tr style=\"text-align: right;\">\n",
       "      <th></th>\n",
       "      <th>Department</th>\n",
       "      <th>Class</th>\n",
       "      <th>Size</th>\n",
       "      <th>Inventory Units</th>\n",
       "      <th>Full Price Inventory Units</th>\n",
       "      <th>Markdown Inventory Units</th>\n",
       "      <th>Inventory Value</th>\n",
       "      <th>Full Price Inventory Value</th>\n",
       "      <th>Markdown Inventory Value</th>\n",
       "      <th>Units Sold</th>\n",
       "      <th>Full Price Units Sold</th>\n",
       "      <th>Markdown Units Sold</th>\n",
       "      <th>Sales</th>\n",
       "      <th>Full Price Sales</th>\n",
       "      <th>Markdown Sales</th>\n",
       "    </tr>\n",
       "  </thead>\n",
       "  <tbody>\n",
       "    <tr>\n",
       "      <th>547</th>\n",
       "      <td>Handbags/Accessories</td>\n",
       "      <td>Backpack</td>\n",
       "      <td>NaN</td>\n",
       "      <td>1091</td>\n",
       "      <td>1022</td>\n",
       "      <td>69</td>\n",
       "      <td>47781.04</td>\n",
       "      <td>44545.28</td>\n",
       "      <td>3235.76</td>\n",
       "      <td>0</td>\n",
       "      <td>0</td>\n",
       "      <td>0</td>\n",
       "      <td>0.0</td>\n",
       "      <td>0.0</td>\n",
       "      <td>0.0</td>\n",
       "    </tr>\n",
       "    <tr>\n",
       "      <th>554</th>\n",
       "      <td>Handbags/Accessories</td>\n",
       "      <td>Evening/Clutch</td>\n",
       "      <td>NaN</td>\n",
       "      <td>2004</td>\n",
       "      <td>1431</td>\n",
       "      <td>573</td>\n",
       "      <td>73085.49</td>\n",
       "      <td>60043.14</td>\n",
       "      <td>13042.35</td>\n",
       "      <td>0</td>\n",
       "      <td>0</td>\n",
       "      <td>0</td>\n",
       "      <td>0.0</td>\n",
       "      <td>0.0</td>\n",
       "      <td>0.0</td>\n",
       "    </tr>\n",
       "    <tr>\n",
       "      <th>555</th>\n",
       "      <td>Handbags/Accessories</td>\n",
       "      <td>Hobos</td>\n",
       "      <td>NaN</td>\n",
       "      <td>2027</td>\n",
       "      <td>1866</td>\n",
       "      <td>161</td>\n",
       "      <td>107773.09</td>\n",
       "      <td>87291.09</td>\n",
       "      <td>20482.00</td>\n",
       "      <td>0</td>\n",
       "      <td>0</td>\n",
       "      <td>0</td>\n",
       "      <td>0.0</td>\n",
       "      <td>0.0</td>\n",
       "      <td>0.0</td>\n",
       "    </tr>\n",
       "    <tr>\n",
       "      <th>556</th>\n",
       "      <td>Handbags/Accessories</td>\n",
       "      <td>Italy</td>\n",
       "      <td>NaN</td>\n",
       "      <td>58</td>\n",
       "      <td>58</td>\n",
       "      <td>0</td>\n",
       "      <td>6509.43</td>\n",
       "      <td>6509.43</td>\n",
       "      <td>0.00</td>\n",
       "      <td>0</td>\n",
       "      <td>0</td>\n",
       "      <td>0</td>\n",
       "      <td>0.0</td>\n",
       "      <td>0.0</td>\n",
       "      <td>0.0</td>\n",
       "    </tr>\n",
       "    <tr>\n",
       "      <th>557</th>\n",
       "      <td>Handbags/Accessories</td>\n",
       "      <td>Luxury</td>\n",
       "      <td>NaN</td>\n",
       "      <td>5</td>\n",
       "      <td>5</td>\n",
       "      <td>0</td>\n",
       "      <td>2999.95</td>\n",
       "      <td>2999.95</td>\n",
       "      <td>0.00</td>\n",
       "      <td>0</td>\n",
       "      <td>0</td>\n",
       "      <td>0</td>\n",
       "      <td>0.0</td>\n",
       "      <td>0.0</td>\n",
       "      <td>0.0</td>\n",
       "    </tr>\n",
       "    <tr>\n",
       "      <th>569</th>\n",
       "      <td>Handbags/Accessories</td>\n",
       "      <td>Messenger/Xbody</td>\n",
       "      <td>NaN</td>\n",
       "      <td>5358</td>\n",
       "      <td>4843</td>\n",
       "      <td>515</td>\n",
       "      <td>235683.83</td>\n",
       "      <td>219197.23</td>\n",
       "      <td>16486.60</td>\n",
       "      <td>0</td>\n",
       "      <td>0</td>\n",
       "      <td>0</td>\n",
       "      <td>0.0</td>\n",
       "      <td>0.0</td>\n",
       "      <td>0.0</td>\n",
       "    </tr>\n",
       "    <tr>\n",
       "      <th>570</th>\n",
       "      <td>Handbags/Accessories</td>\n",
       "      <td>Satchels</td>\n",
       "      <td>NaN</td>\n",
       "      <td>7737</td>\n",
       "      <td>6368</td>\n",
       "      <td>1369</td>\n",
       "      <td>306853.17</td>\n",
       "      <td>268935.57</td>\n",
       "      <td>37917.60</td>\n",
       "      <td>0</td>\n",
       "      <td>0</td>\n",
       "      <td>0</td>\n",
       "      <td>0.0</td>\n",
       "      <td>0.0</td>\n",
       "      <td>0.0</td>\n",
       "    </tr>\n",
       "    <tr>\n",
       "      <th>571</th>\n",
       "      <td>Handbags/Accessories</td>\n",
       "      <td>SLG</td>\n",
       "      <td>NaN</td>\n",
       "      <td>3810</td>\n",
       "      <td>2648</td>\n",
       "      <td>1162</td>\n",
       "      <td>70851.52</td>\n",
       "      <td>55903.52</td>\n",
       "      <td>14948.00</td>\n",
       "      <td>0</td>\n",
       "      <td>0</td>\n",
       "      <td>0</td>\n",
       "      <td>0.0</td>\n",
       "      <td>0.0</td>\n",
       "      <td>0.0</td>\n",
       "    </tr>\n",
       "    <tr>\n",
       "      <th>572</th>\n",
       "      <td>Handbags/Accessories</td>\n",
       "      <td>Totes</td>\n",
       "      <td>NaN</td>\n",
       "      <td>5445</td>\n",
       "      <td>4430</td>\n",
       "      <td>1015</td>\n",
       "      <td>210485.21</td>\n",
       "      <td>188231.96</td>\n",
       "      <td>22253.25</td>\n",
       "      <td>0</td>\n",
       "      <td>0</td>\n",
       "      <td>0</td>\n",
       "      <td>0.0</td>\n",
       "      <td>0.0</td>\n",
       "      <td>0.0</td>\n",
       "    </tr>\n",
       "    <tr>\n",
       "      <th>1097</th>\n",
       "      <td>Men &amp; Womens Athle</td>\n",
       "      <td>Walking</td>\n",
       "      <td>NaN</td>\n",
       "      <td>122</td>\n",
       "      <td>0</td>\n",
       "      <td>122</td>\n",
       "      <td>3897.60</td>\n",
       "      <td>0.00</td>\n",
       "      <td>3897.60</td>\n",
       "      <td>0</td>\n",
       "      <td>0</td>\n",
       "      <td>0</td>\n",
       "      <td>0.0</td>\n",
       "      <td>0.0</td>\n",
       "      <td>0.0</td>\n",
       "    </tr>\n",
       "  </tbody>\n",
       "</table>\n",
       "</div>"
      ],
      "text/plain": [
       "                Department            Class Size  Inventory Units  \\\n",
       "547   Handbags/Accessories         Backpack  NaN             1091   \n",
       "554   Handbags/Accessories   Evening/Clutch  NaN             2004   \n",
       "555   Handbags/Accessories            Hobos  NaN             2027   \n",
       "556   Handbags/Accessories            Italy  NaN               58   \n",
       "557   Handbags/Accessories           Luxury  NaN                5   \n",
       "569   Handbags/Accessories  Messenger/Xbody  NaN             5358   \n",
       "570   Handbags/Accessories         Satchels  NaN             7737   \n",
       "571   Handbags/Accessories              SLG  NaN             3810   \n",
       "572   Handbags/Accessories            Totes  NaN             5445   \n",
       "1097    Men & Womens Athle          Walking  NaN              122   \n",
       "\n",
       "      Full Price Inventory Units  Markdown Inventory Units  Inventory Value  \\\n",
       "547                         1022                        69         47781.04   \n",
       "554                         1431                       573         73085.49   \n",
       "555                         1866                       161        107773.09   \n",
       "556                           58                         0          6509.43   \n",
       "557                            5                         0          2999.95   \n",
       "569                         4843                       515        235683.83   \n",
       "570                         6368                      1369        306853.17   \n",
       "571                         2648                      1162         70851.52   \n",
       "572                         4430                      1015        210485.21   \n",
       "1097                           0                       122          3897.60   \n",
       "\n",
       "      Full Price Inventory Value  Markdown Inventory Value  Units Sold  \\\n",
       "547                     44545.28                   3235.76           0   \n",
       "554                     60043.14                  13042.35           0   \n",
       "555                     87291.09                  20482.00           0   \n",
       "556                      6509.43                      0.00           0   \n",
       "557                      2999.95                      0.00           0   \n",
       "569                    219197.23                  16486.60           0   \n",
       "570                    268935.57                  37917.60           0   \n",
       "571                     55903.52                  14948.00           0   \n",
       "572                    188231.96                  22253.25           0   \n",
       "1097                        0.00                   3897.60           0   \n",
       "\n",
       "      Full Price Units Sold  Markdown Units Sold  Sales  Full Price Sales  \\\n",
       "547                       0                    0    0.0               0.0   \n",
       "554                       0                    0    0.0               0.0   \n",
       "555                       0                    0    0.0               0.0   \n",
       "556                       0                    0    0.0               0.0   \n",
       "557                       0                    0    0.0               0.0   \n",
       "569                       0                    0    0.0               0.0   \n",
       "570                       0                    0    0.0               0.0   \n",
       "571                       0                    0    0.0               0.0   \n",
       "572                       0                    0    0.0               0.0   \n",
       "1097                      0                    0    0.0               0.0   \n",
       "\n",
       "      Markdown Sales  \n",
       "547              0.0  \n",
       "554              0.0  \n",
       "555              0.0  \n",
       "556              0.0  \n",
       "557              0.0  \n",
       "569              0.0  \n",
       "570              0.0  \n",
       "571              0.0  \n",
       "572              0.0  \n",
       "1097             0.0  "
      ]
     },
     "execution_count": 6,
     "metadata": {},
     "output_type": "execute_result"
    }
   ],
   "source": [
    "df[df[null_col].isnull()].head(10)"
   ]
  },
  {
   "cell_type": "code",
   "execution_count": 7,
   "id": "3e936fb4",
   "metadata": {},
   "outputs": [
    {
     "name": "stdout",
     "output_type": "stream",
     "text": [
      "nan <class 'float'>\n"
     ]
    }
   ],
   "source": [
    "print(df[df[null_col].isnull()]['Size'].values[1],type(df[df[null_col].isnull()]['Size'].values[1]))"
   ]
  },
  {
   "cell_type": "markdown",
   "id": "384b8a86",
   "metadata": {},
   "source": [
    "It is clear that these NaN values correspond to non-clothing items. Moreover, they are float type missplaced in a string field. To avoid confusion, this will be changed to a similar, non-NaN field value. "
   ]
  },
  {
   "cell_type": "code",
   "execution_count": 8,
   "id": "317ddea9",
   "metadata": {},
   "outputs": [],
   "source": [
    "import numpy as np\n",
    "df['Size'] = df['Size'].replace({np.nan:'Not-Clothing'})"
   ]
  },
  {
   "cell_type": "code",
   "execution_count": 9,
   "id": "8938cbaa",
   "metadata": {},
   "outputs": [
    {
     "data": {
      "text/plain": [
       "1741    Not-Clothing\n",
       "1742    Not-Clothing\n",
       "1743    Not-Clothing\n",
       "1744    Not-Clothing\n",
       "1745    Not-Clothing\n",
       "Name: Size, dtype: object"
      ]
     },
     "execution_count": 9,
     "metadata": {},
     "output_type": "execute_result"
    }
   ],
   "source": [
    "df['Size'].tail()"
   ]
  },
  {
   "cell_type": "markdown",
   "id": "9e3b9e1d",
   "metadata": {},
   "source": [
    "However, another problem emerges:"
   ]
  },
  {
   "cell_type": "code",
   "execution_count": 10,
   "id": "5d2983b7",
   "metadata": {
    "scrolled": true
   },
   "outputs": [
    {
     "data": {
      "text/plain": [
       "Department     True\n",
       "Class          True\n",
       "Size          False\n",
       "dtype: bool"
      ]
     },
     "execution_count": 10,
     "metadata": {},
     "output_type": "execute_result"
    }
   ],
   "source": [
    "df.select_dtypes(include = 'object').all()"
   ]
  },
  {
   "cell_type": "markdown",
   "id": "ecbc5bbb",
   "metadata": {},
   "source": [
    "The datatypes of the Size column are mixed, probably int and string types. There are to be all reassigned to the string type; as previously mentioned, they represent categorical variables."
   ]
  },
  {
   "cell_type": "code",
   "execution_count": 11,
   "id": "a099ceba",
   "metadata": {},
   "outputs": [],
   "source": [
    "# reassign\n",
    "df['Size'] = df['Size'].apply(lambda x: str(x))"
   ]
  },
  {
   "cell_type": "code",
   "execution_count": 12,
   "id": "6024b041",
   "metadata": {},
   "outputs": [
    {
     "data": {
      "text/plain": [
       "Department    True\n",
       "Class         True\n",
       "Size          True\n",
       "dtype: bool"
      ]
     },
     "execution_count": 12,
     "metadata": {},
     "output_type": "execute_result"
    }
   ],
   "source": [
    "df.select_dtypes(include = 'object').all()"
   ]
  },
  {
   "cell_type": "markdown",
   "id": "73f71789",
   "metadata": {},
   "source": [
    "The rest of the 11 columns are numeric, evenly split with `int` (integers) and `float` (decimals). The floats were properly used to house dollar amounts, while the ints are fitting to house figures for the amounts of units. This can be viewed below: "
   ]
  },
  {
   "cell_type": "code",
   "execution_count": 13,
   "id": "133f8361",
   "metadata": {
    "scrolled": false
   },
   "outputs": [
    {
     "data": {
      "text/html": [
       "<div>\n",
       "<style scoped>\n",
       "    .dataframe tbody tr th:only-of-type {\n",
       "        vertical-align: middle;\n",
       "    }\n",
       "\n",
       "    .dataframe tbody tr th {\n",
       "        vertical-align: top;\n",
       "    }\n",
       "\n",
       "    .dataframe thead th {\n",
       "        text-align: right;\n",
       "    }\n",
       "</style>\n",
       "<table border=\"1\" class=\"dataframe\">\n",
       "  <thead>\n",
       "    <tr style=\"text-align: right;\">\n",
       "      <th></th>\n",
       "      <th>Inventory Units</th>\n",
       "      <th>Full Price Inventory Units</th>\n",
       "      <th>Markdown Inventory Units</th>\n",
       "      <th>Inventory Value</th>\n",
       "      <th>Full Price Inventory Value</th>\n",
       "      <th>Markdown Inventory Value</th>\n",
       "      <th>Units Sold</th>\n",
       "      <th>Full Price Units Sold</th>\n",
       "      <th>Markdown Units Sold</th>\n",
       "      <th>Sales</th>\n",
       "      <th>Full Price Sales</th>\n",
       "      <th>Markdown Sales</th>\n",
       "    </tr>\n",
       "  </thead>\n",
       "  <tbody>\n",
       "    <tr>\n",
       "      <th>0</th>\n",
       "      <td>64</td>\n",
       "      <td>64</td>\n",
       "      <td>0</td>\n",
       "      <td>1327.62</td>\n",
       "      <td>1327.62</td>\n",
       "      <td>0.0</td>\n",
       "      <td>5</td>\n",
       "      <td>5</td>\n",
       "      <td>0</td>\n",
       "      <td>114.95</td>\n",
       "      <td>114.95</td>\n",
       "      <td>0.0</td>\n",
       "    </tr>\n",
       "    <tr>\n",
       "      <th>1</th>\n",
       "      <td>21</td>\n",
       "      <td>21</td>\n",
       "      <td>0</td>\n",
       "      <td>517.29</td>\n",
       "      <td>517.29</td>\n",
       "      <td>0.0</td>\n",
       "      <td>2</td>\n",
       "      <td>2</td>\n",
       "      <td>0</td>\n",
       "      <td>28.74</td>\n",
       "      <td>28.74</td>\n",
       "      <td>0.0</td>\n",
       "    </tr>\n",
       "    <tr>\n",
       "      <th>2</th>\n",
       "      <td>73</td>\n",
       "      <td>68</td>\n",
       "      <td>5</td>\n",
       "      <td>1618.08</td>\n",
       "      <td>1518.08</td>\n",
       "      <td>100.0</td>\n",
       "      <td>4</td>\n",
       "      <td>0</td>\n",
       "      <td>4</td>\n",
       "      <td>75.00</td>\n",
       "      <td>0.00</td>\n",
       "      <td>75.0</td>\n",
       "    </tr>\n",
       "    <tr>\n",
       "      <th>3</th>\n",
       "      <td>68</td>\n",
       "      <td>68</td>\n",
       "      <td>0</td>\n",
       "      <td>1495.58</td>\n",
       "      <td>1495.58</td>\n",
       "      <td>0.0</td>\n",
       "      <td>1</td>\n",
       "      <td>1</td>\n",
       "      <td>0</td>\n",
       "      <td>18.99</td>\n",
       "      <td>18.99</td>\n",
       "      <td>0.0</td>\n",
       "    </tr>\n",
       "    <tr>\n",
       "      <th>4</th>\n",
       "      <td>64</td>\n",
       "      <td>64</td>\n",
       "      <td>0</td>\n",
       "      <td>1599.36</td>\n",
       "      <td>1599.36</td>\n",
       "      <td>0.0</td>\n",
       "      <td>2</td>\n",
       "      <td>2</td>\n",
       "      <td>0</td>\n",
       "      <td>49.98</td>\n",
       "      <td>49.98</td>\n",
       "      <td>0.0</td>\n",
       "    </tr>\n",
       "  </tbody>\n",
       "</table>\n",
       "</div>"
      ],
      "text/plain": [
       "   Inventory Units  Full Price Inventory Units  Markdown Inventory Units  \\\n",
       "0               64                          64                         0   \n",
       "1               21                          21                         0   \n",
       "2               73                          68                         5   \n",
       "3               68                          68                         0   \n",
       "4               64                          64                         0   \n",
       "\n",
       "   Inventory Value  Full Price Inventory Value  Markdown Inventory Value  \\\n",
       "0          1327.62                     1327.62                       0.0   \n",
       "1           517.29                      517.29                       0.0   \n",
       "2          1618.08                     1518.08                     100.0   \n",
       "3          1495.58                     1495.58                       0.0   \n",
       "4          1599.36                     1599.36                       0.0   \n",
       "\n",
       "   Units Sold  Full Price Units Sold  Markdown Units Sold   Sales  \\\n",
       "0           5                      5                    0  114.95   \n",
       "1           2                      2                    0   28.74   \n",
       "2           4                      0                    4   75.00   \n",
       "3           1                      1                    0   18.99   \n",
       "4           2                      2                    0   49.98   \n",
       "\n",
       "   Full Price Sales  Markdown Sales  \n",
       "0            114.95             0.0  \n",
       "1             28.74             0.0  \n",
       "2              0.00            75.0  \n",
       "3             18.99             0.0  \n",
       "4             49.98             0.0  "
      ]
     },
     "execution_count": 13,
     "metadata": {},
     "output_type": "execute_result"
    }
   ],
   "source": [
    "df.select_dtypes(include = ['int64','float64']).head()"
   ]
  },
  {
   "cell_type": "markdown",
   "id": "c5359eae",
   "metadata": {},
   "source": [
    "Thus, there is no further modification needed to the datatypes at this point."
   ]
  },
  {
   "cell_type": "markdown",
   "id": "cb4cbc0f",
   "metadata": {},
   "source": [
    "# Duplicates"
   ]
  },
  {
   "cell_type": "markdown",
   "id": "a630c56f",
   "metadata": {},
   "source": [
    "Next, duplicated values need to be found and purged."
   ]
  },
  {
   "cell_type": "code",
   "execution_count": 14,
   "id": "177c08fe",
   "metadata": {
    "scrolled": false
   },
   "outputs": [
    {
     "name": "stdout",
     "output_type": "stream",
     "text": [
      "There are 0 duplicate entries in the dataset.\n"
     ]
    }
   ],
   "source": [
    "df.duplicated()\n",
    "\n",
    "print(f'There are {df.duplicated().sum()} duplicate entries in the dataset.')"
   ]
  },
  {
   "cell_type": "markdown",
   "id": "d55e40fa",
   "metadata": {},
   "source": [
    "This bodes well - All entries are unique.\n",
    "\n",
    "# Categorical Column Visualization\n",
    "\n",
    "Next, the values of the 10 most occurrent values of the categorical columns are explored:"
   ]
  },
  {
   "cell_type": "code",
   "execution_count": 15,
   "id": "52d70a42",
   "metadata": {},
   "outputs": [],
   "source": [
    "import seaborn as sns\n",
    "import matplotlib.pyplot as plt\n",
    "\n",
    "def explore_categorical(col_name, df):\n",
    "    if df[col_name].dtypes == 'object':\n",
    "        print(f'Categorical Column: {col_name}')\n",
    "        print()\n",
    "\n",
    "        # 10 highest values for readability\n",
    "        print(df[col_name].value_counts()[:10])\n",
    "        \n",
    "        #sns count plot\n",
    "        sns.set_theme(style=\"whitegrid\")\n",
    "        sns.countplot( data = df, y = col_name,order = df[col_name].value_counts().index[:10], color = 'crimson')\n",
    "        plt.show()\n",
    "        print()"
   ]
  },
  {
   "cell_type": "code",
   "execution_count": 16,
   "id": "201808a2",
   "metadata": {
    "scrolled": false
   },
   "outputs": [
    {
     "name": "stdout",
     "output_type": "stream",
     "text": [
      "Categorical Column: Department\n",
      "\n",
      "Ladies Footwear             273\n",
      "Men & Womens Athle          147\n",
      "Contemporary                136\n",
      "Best Brands Casual          107\n",
      "Decorative Textiles         104\n",
      "Mens Moderate Sportswear     97\n",
      "Inf & Toddlers               88\n",
      "Dresses/Ladies Suits         86\n",
      "Activewear                   85\n",
      "Women's Sizes                81\n",
      "Name: Department, dtype: int64\n"
     ]
    },
    {
     "data": {
      "image/png": "[encoded data removed]",
      "text/plain": [
       "<Figure size 640x480 with 1 Axes>"
      ]
     },
     "metadata": {},
     "output_type": "display_data"
    },
    {
     "name": "stdout",
     "output_type": "stream",
     "text": [
      "\n",
      "Categorical Column: Class\n",
      "\n",
      "Denim             167\n",
      "Pants             132\n",
      "Shorts             99\n",
      "Sandals            90\n",
      "Sneakers           57\n",
      "Skirts             53\n",
      "Flats              40\n",
      "Luxury             36\n",
      "Womens Running     32\n",
      "Jackets            31\n",
      "Name: Class, dtype: int64\n"
     ]
    },
    {
     "data": {
      "image/png": "[encoded data removed]",
      "text/plain": [
       "<Figure size 640x480 with 1 Axes>"
      ]
     },
     "metadata": {},
     "output_type": "display_data"
    },
    {
     "name": "stdout",
     "output_type": "stream",
     "text": [
      "\n",
      "Categorical Column: Size\n",
      "\n",
      "M               71\n",
      "L               70\n",
      "S               69\n",
      "XL              59\n",
      "Not-Clothing    58\n",
      "XS              46\n",
      "10              31\n",
      "6               30\n",
      "8               29\n",
      "XXL             28\n",
      "Name: Size, dtype: int64\n"
     ]
    },
    {
     "data": {
      "image/png": "[encoded data removed]",
      "text/plain": [
       "<Figure size 640x480 with 1 Axes>"
      ]
     },
     "metadata": {},
     "output_type": "display_data"
    },
    {
     "name": "stdout",
     "output_type": "stream",
     "text": [
      "\n"
     ]
    }
   ],
   "source": [
    "cat_cols = df.select_dtypes(include = 'object').head().columns\n",
    "for cat in cat_cols:\n",
    "    explore_categorical(cat,df)"
   ]
  },
  {
   "cell_type": "markdown",
   "id": "d28972d3",
   "metadata": {},
   "source": [
    "There are a few things to be gathered from these visualizations. First and most important, is the sheer number of sales records for women's footwear relative to other departments. This is nearly doubled the next most prevelant department! For this reason, any promotional analysis or sales recors for this department should expect to have a disproportionate effect on the \"big picture\" of sales performance."
   ]
  },
  {
   "cell_type": "markdown",
   "id": "8a0045d9",
   "metadata": {},
   "source": [
    "# Column `Size` Engineering"
   ]
  },
  {
   "cell_type": "code",
   "execution_count": 17,
   "id": "c9f25099",
   "metadata": {},
   "outputs": [
    {
     "data": {
      "text/plain": [
       "M               71\n",
       "L               70\n",
       "S               69\n",
       "XL              59\n",
       "Not-Clothing    58\n",
       "                ..\n",
       "10WW             1\n",
       "10N              1\n",
       "10.5WW           1\n",
       "10.5 4E          1\n",
       "25oz             1\n",
       "Name: Size, Length: 433, dtype: int64"
      ]
     },
     "execution_count": 17,
     "metadata": {},
     "output_type": "execute_result"
    }
   ],
   "source": [
    "df['Size'].value_counts()"
   ]
  },
  {
   "cell_type": "markdown",
   "id": "108bdf61",
   "metadata": {},
   "source": [
    "Even with the previously handled NaN values, there is still something that jumps out when viewing the `Size` column. Namely, this is the sheer amount of values appearing (nearly 440!). This won't enable conlcusions for this field without modification. "
   ]
  },
  {
   "cell_type": "code",
   "execution_count": 18,
   "id": "ebe34c72",
   "metadata": {},
   "outputs": [
    {
     "data": {
      "text/plain": [
       "Ladies Footwear              273\n",
       "Men & Womens Athle           147\n",
       "Contemporary                 136\n",
       "Best Brands Casual           107\n",
       "Decorative Textiles          104\n",
       "Mens Moderate Sportswear      97\n",
       "Inf & Toddlers                88\n",
       "Dresses/Ladies Suits          86\n",
       "Activewear                    85\n",
       "Women's Sizes                 81\n",
       "Mens Contemporary             69\n",
       "Mens Best Brands              67\n",
       "Casual Wear                   58\n",
       "Bedding                       57\n",
       "Junior Sportswear             36\n",
       "Young Mens                    36\n",
       "Knitwear                      31\n",
       "Mens Furnishings              28\n",
       "Handbags/Accessories          26\n",
       "Bath Shop/Textiles            25\n",
       "Mens Activewear               18\n",
       "Mens Accessories/Giftware     16\n",
       "Junior Drs/Swtr/Jkt           13\n",
       "Gourmet Housewares             9\n",
       "Treatment / Color              9\n",
       "Bath  Body  Hair               8\n",
       "Toys & Books                   7\n",
       "Luggage/Accessories            6\n",
       "Haircare                       6\n",
       "Table Top                      5\n",
       "Home Furnishings               5\n",
       "Seasonal Decorative            3\n",
       "Fragrances                     3\n",
       "Children's Accessories         1\n",
       "Name: Department, dtype: int64"
      ]
     },
     "execution_count": 18,
     "metadata": {},
     "output_type": "execute_result"
    }
   ],
   "source": [
    "deps = df['Department'].value_counts()\n",
    "\n",
    "deps"
   ]
  },
  {
   "cell_type": "markdown",
   "id": "6a643498",
   "metadata": {},
   "source": [
    "As it stands, there are 433 representations of size in the merchandise, which is extremely high. In a similar way to the Null adjustment before, more entries can be funnelled into the Non Clothing category. While these might have sizings relevant to their type, they aren't compareable to conclusions drawn to clothing size analysis (i.e. King or Queen bedding sizes or Small/Large Cosmetics vs. Medium or Large clothing). It is for this reason, that the non-clothing objects will be grouped. This will radically reduce the size distributions."
   ]
  },
  {
   "cell_type": "code",
   "execution_count": 19,
   "id": "6604cbe4",
   "metadata": {
    "scrolled": true
   },
   "outputs": [
    {
     "data": {
      "text/plain": [
       "Decorative Textiles       104\n",
       "Bedding                    57\n",
       "Bath Shop/Textiles         25\n",
       "Gourmet Housewares          9\n",
       "Treatment / Color           9\n",
       "Bath  Body  Hair            8\n",
       "Toys & Books                7\n",
       "Luggage/Accessories         6\n",
       "Haircare                    6\n",
       "Table Top                   5\n",
       "Home Furnishings            5\n",
       "Seasonal Decorative         3\n",
       "Fragrances                  3\n",
       "Children's Accessories      1\n",
       "Name: Department, dtype: int64"
      ]
     },
     "execution_count": 19,
     "metadata": {},
     "output_type": "execute_result"
    }
   ],
   "source": [
    "to_repl = list(deps[-10:].index)\n",
    "to_repl.append('Bedding')\n",
    "to_repl.append('Bath Shop/Textiles')\n",
    "to_repl.append('Gourmet Housewares')\n",
    "to_repl.append('Decorative Textiles')\n",
    "clothing_cols = list(deps.index)\n",
    "for x in to_repl:\n",
    "    clothing_cols.remove(x)\n",
    "    \n",
    "df[~df['Department'].isin(clothing_cols)]['Department'].value_counts()"
   ]
  },
  {
   "cell_type": "code",
   "execution_count": 20,
   "id": "2b7ca7e4",
   "metadata": {
    "scrolled": true
   },
   "outputs": [],
   "source": [
    "df.loc[~(df['Department'].isin(clothing_cols)), 'Size'] = 'Not-Clothing'"
   ]
  },
  {
   "cell_type": "code",
   "execution_count": 21,
   "id": "ea6b7d85",
   "metadata": {},
   "outputs": [
    {
     "data": {
      "text/plain": [
       "Not-Clothing    259\n",
       "M                71\n",
       "L                70\n",
       "S                69\n",
       "XL               59\n",
       "               ... \n",
       "25/27             1\n",
       "24/30             1\n",
       "24/27             1\n",
       "XS/14             1\n",
       "33x27             1\n",
       "Name: Size, Length: 331, dtype: int64"
      ]
     },
     "execution_count": 21,
     "metadata": {},
     "output_type": "execute_result"
    }
   ],
   "source": [
    "df['Size'].value_counts()"
   ]
  },
  {
   "cell_type": "markdown",
   "id": "1b3d7412",
   "metadata": {},
   "source": [
    "In order to further reduce the size category, we can group sizes that are the beginning of / or x, i.e. focusing on inseam length only. \n",
    "\n"
   ]
  },
  {
   "cell_type": "code",
   "execution_count": 22,
   "id": "ab61fa13",
   "metadata": {
    "scrolled": true
   },
   "outputs": [],
   "source": [
    "import re\n",
    "\n",
    "# copy size Series\n",
    "repl = df['Size']\n",
    "\n",
    "# to add to Series\n",
    "new = pd.Series({},dtype = str)\n",
    "\n",
    "# for one index\n",
    "for one in repl.index:\n",
    "    # filter for inseam x length measurement (i.e. 32x30 and not 3XL)\n",
    "    if (re.findall(r'x|X|/', repl[one]) and not (re.findall(r'l|L|s|S', repl[one]))):\n",
    "        # normalize replacement vaue\n",
    "        temp = repl[one].replace('/','x')\n",
    "        temp =temp.replace('X','x')\n",
    "        temp = temp.split('x') \n",
    "        # if original was 3X, ignore\n",
    "        if temp[1] == '':\n",
    "            continue\n",
    "        # if original was European sizing, ignore first\n",
    "        if len(temp) == 3:\n",
    "            temp = temp[1:3]\n",
    "        # take first value \n",
    "        temp = temp[0]\n",
    "        # append\n",
    "        new = pd.concat([new, pd.Series({one:temp})])\n"
   ]
  },
  {
   "cell_type": "code",
   "execution_count": 23,
   "id": "f59c02ae",
   "metadata": {},
   "outputs": [],
   "source": [
    "# reassign the corresponding index value pairs\n",
    "df.loc[new.index,'Size'] = new.values"
   ]
  },
  {
   "cell_type": "code",
   "execution_count": 24,
   "id": "26e3cbca",
   "metadata": {},
   "outputs": [
    {
     "data": {
      "text/html": [
       "<div>\n",
       "<style scoped>\n",
       "    .dataframe tbody tr th:only-of-type {\n",
       "        vertical-align: middle;\n",
       "    }\n",
       "\n",
       "    .dataframe tbody tr th {\n",
       "        vertical-align: top;\n",
       "    }\n",
       "\n",
       "    .dataframe thead th {\n",
       "        text-align: right;\n",
       "    }\n",
       "</style>\n",
       "<table border=\"1\" class=\"dataframe\">\n",
       "  <thead>\n",
       "    <tr style=\"text-align: right;\">\n",
       "      <th></th>\n",
       "      <th>Department</th>\n",
       "      <th>Class</th>\n",
       "      <th>Size</th>\n",
       "      <th>Inventory Units</th>\n",
       "      <th>Full Price Inventory Units</th>\n",
       "      <th>Markdown Inventory Units</th>\n",
       "      <th>Inventory Value</th>\n",
       "      <th>Full Price Inventory Value</th>\n",
       "      <th>Markdown Inventory Value</th>\n",
       "      <th>Units Sold</th>\n",
       "      <th>Full Price Units Sold</th>\n",
       "      <th>Markdown Units Sold</th>\n",
       "      <th>Sales</th>\n",
       "      <th>Full Price Sales</th>\n",
       "      <th>Markdown Sales</th>\n",
       "    </tr>\n",
       "  </thead>\n",
       "  <tbody>\n",
       "    <tr>\n",
       "      <th>1</th>\n",
       "      <td>Casual Wear</td>\n",
       "      <td>Denim</td>\n",
       "      <td>24</td>\n",
       "      <td>21</td>\n",
       "      <td>21</td>\n",
       "      <td>0</td>\n",
       "      <td>517.29</td>\n",
       "      <td>517.29</td>\n",
       "      <td>0.0</td>\n",
       "      <td>2</td>\n",
       "      <td>2</td>\n",
       "      <td>0</td>\n",
       "      <td>28.74</td>\n",
       "      <td>28.74</td>\n",
       "      <td>0.0</td>\n",
       "    </tr>\n",
       "    <tr>\n",
       "      <th>2</th>\n",
       "      <td>Casual Wear</td>\n",
       "      <td>Denim</td>\n",
       "      <td>24</td>\n",
       "      <td>73</td>\n",
       "      <td>68</td>\n",
       "      <td>5</td>\n",
       "      <td>1618.08</td>\n",
       "      <td>1518.08</td>\n",
       "      <td>100.0</td>\n",
       "      <td>4</td>\n",
       "      <td>0</td>\n",
       "      <td>4</td>\n",
       "      <td>75.00</td>\n",
       "      <td>0.00</td>\n",
       "      <td>75.0</td>\n",
       "    </tr>\n",
       "    <tr>\n",
       "      <th>4</th>\n",
       "      <td>Casual Wear</td>\n",
       "      <td>Denim</td>\n",
       "      <td>25</td>\n",
       "      <td>64</td>\n",
       "      <td>64</td>\n",
       "      <td>0</td>\n",
       "      <td>1599.36</td>\n",
       "      <td>1599.36</td>\n",
       "      <td>0.0</td>\n",
       "      <td>2</td>\n",
       "      <td>2</td>\n",
       "      <td>0</td>\n",
       "      <td>49.98</td>\n",
       "      <td>49.98</td>\n",
       "      <td>0.0</td>\n",
       "    </tr>\n",
       "    <tr>\n",
       "      <th>5</th>\n",
       "      <td>Casual Wear</td>\n",
       "      <td>Denim</td>\n",
       "      <td>25</td>\n",
       "      <td>31</td>\n",
       "      <td>31</td>\n",
       "      <td>0</td>\n",
       "      <td>759.70</td>\n",
       "      <td>759.70</td>\n",
       "      <td>0.0</td>\n",
       "      <td>0</td>\n",
       "      <td>0</td>\n",
       "      <td>0</td>\n",
       "      <td>0.00</td>\n",
       "      <td>0.00</td>\n",
       "      <td>0.0</td>\n",
       "    </tr>\n",
       "    <tr>\n",
       "      <th>7</th>\n",
       "      <td>Casual Wear</td>\n",
       "      <td>Denim</td>\n",
       "      <td>26</td>\n",
       "      <td>1</td>\n",
       "      <td>1</td>\n",
       "      <td>0</td>\n",
       "      <td>16.99</td>\n",
       "      <td>16.99</td>\n",
       "      <td>0.0</td>\n",
       "      <td>1</td>\n",
       "      <td>1</td>\n",
       "      <td>0</td>\n",
       "      <td>16.99</td>\n",
       "      <td>16.99</td>\n",
       "      <td>0.0</td>\n",
       "    </tr>\n",
       "    <tr>\n",
       "      <th>...</th>\n",
       "      <td>...</td>\n",
       "      <td>...</td>\n",
       "      <td>...</td>\n",
       "      <td>...</td>\n",
       "      <td>...</td>\n",
       "      <td>...</td>\n",
       "      <td>...</td>\n",
       "      <td>...</td>\n",
       "      <td>...</td>\n",
       "      <td>...</td>\n",
       "      <td>...</td>\n",
       "      <td>...</td>\n",
       "      <td>...</td>\n",
       "      <td>...</td>\n",
       "      <td>...</td>\n",
       "    </tr>\n",
       "    <tr>\n",
       "      <th>1558</th>\n",
       "      <td>Mens Contemporary</td>\n",
       "      <td>Pants</td>\n",
       "      <td>34</td>\n",
       "      <td>16</td>\n",
       "      <td>0</td>\n",
       "      <td>16</td>\n",
       "      <td>320.00</td>\n",
       "      <td>0.00</td>\n",
       "      <td>320.0</td>\n",
       "      <td>1</td>\n",
       "      <td>0</td>\n",
       "      <td>1</td>\n",
       "      <td>20.00</td>\n",
       "      <td>0.00</td>\n",
       "      <td>20.0</td>\n",
       "    </tr>\n",
       "    <tr>\n",
       "      <th>1559</th>\n",
       "      <td>Mens Contemporary</td>\n",
       "      <td>Pants</td>\n",
       "      <td>35</td>\n",
       "      <td>13</td>\n",
       "      <td>13</td>\n",
       "      <td>0</td>\n",
       "      <td>495.88</td>\n",
       "      <td>495.88</td>\n",
       "      <td>0.0</td>\n",
       "      <td>5</td>\n",
       "      <td>5</td>\n",
       "      <td>0</td>\n",
       "      <td>185.95</td>\n",
       "      <td>185.95</td>\n",
       "      <td>0.0</td>\n",
       "    </tr>\n",
       "    <tr>\n",
       "      <th>1561</th>\n",
       "      <td>Mens Contemporary</td>\n",
       "      <td>Pants</td>\n",
       "      <td>36</td>\n",
       "      <td>9</td>\n",
       "      <td>9</td>\n",
       "      <td>0</td>\n",
       "      <td>335.92</td>\n",
       "      <td>335.92</td>\n",
       "      <td>0.0</td>\n",
       "      <td>2</td>\n",
       "      <td>2</td>\n",
       "      <td>0</td>\n",
       "      <td>41.99</td>\n",
       "      <td>41.99</td>\n",
       "      <td>0.0</td>\n",
       "    </tr>\n",
       "    <tr>\n",
       "      <th>1563</th>\n",
       "      <td>Mens Contemporary</td>\n",
       "      <td>Pants</td>\n",
       "      <td>38</td>\n",
       "      <td>20</td>\n",
       "      <td>20</td>\n",
       "      <td>0</td>\n",
       "      <td>791.80</td>\n",
       "      <td>791.80</td>\n",
       "      <td>0.0</td>\n",
       "      <td>1</td>\n",
       "      <td>1</td>\n",
       "      <td>0</td>\n",
       "      <td>35.99</td>\n",
       "      <td>35.99</td>\n",
       "      <td>0.0</td>\n",
       "    </tr>\n",
       "    <tr>\n",
       "      <th>1564</th>\n",
       "      <td>Mens Contemporary</td>\n",
       "      <td>Pants</td>\n",
       "      <td>40</td>\n",
       "      <td>8</td>\n",
       "      <td>8</td>\n",
       "      <td>0</td>\n",
       "      <td>289.93</td>\n",
       "      <td>289.93</td>\n",
       "      <td>0.0</td>\n",
       "      <td>0</td>\n",
       "      <td>0</td>\n",
       "      <td>0</td>\n",
       "      <td>0.00</td>\n",
       "      <td>0.00</td>\n",
       "      <td>0.0</td>\n",
       "    </tr>\n",
       "  </tbody>\n",
       "</table>\n",
       "<p>191 rows × 15 columns</p>\n",
       "</div>"
      ],
      "text/plain": [
       "             Department  Class Size  Inventory Units  \\\n",
       "1           Casual Wear  Denim   24               21   \n",
       "2           Casual Wear  Denim   24               73   \n",
       "4           Casual Wear  Denim   25               64   \n",
       "5           Casual Wear  Denim   25               31   \n",
       "7           Casual Wear  Denim   26                1   \n",
       "...                 ...    ...  ...              ...   \n",
       "1558  Mens Contemporary  Pants   34               16   \n",
       "1559  Mens Contemporary  Pants   35               13   \n",
       "1561  Mens Contemporary  Pants   36                9   \n",
       "1563  Mens Contemporary  Pants   38               20   \n",
       "1564  Mens Contemporary  Pants   40                8   \n",
       "\n",
       "      Full Price Inventory Units  Markdown Inventory Units  Inventory Value  \\\n",
       "1                             21                         0           517.29   \n",
       "2                             68                         5          1618.08   \n",
       "4                             64                         0          1599.36   \n",
       "5                             31                         0           759.70   \n",
       "7                              1                         0            16.99   \n",
       "...                          ...                       ...              ...   \n",
       "1558                           0                        16           320.00   \n",
       "1559                          13                         0           495.88   \n",
       "1561                           9                         0           335.92   \n",
       "1563                          20                         0           791.80   \n",
       "1564                           8                         0           289.93   \n",
       "\n",
       "      Full Price Inventory Value  Markdown Inventory Value  Units Sold  \\\n",
       "1                         517.29                       0.0           2   \n",
       "2                        1518.08                     100.0           4   \n",
       "4                        1599.36                       0.0           2   \n",
       "5                         759.70                       0.0           0   \n",
       "7                          16.99                       0.0           1   \n",
       "...                          ...                       ...         ...   \n",
       "1558                        0.00                     320.0           1   \n",
       "1559                      495.88                       0.0           5   \n",
       "1561                      335.92                       0.0           2   \n",
       "1563                      791.80                       0.0           1   \n",
       "1564                      289.93                       0.0           0   \n",
       "\n",
       "      Full Price Units Sold  Markdown Units Sold   Sales  Full Price Sales  \\\n",
       "1                         2                    0   28.74             28.74   \n",
       "2                         0                    4   75.00              0.00   \n",
       "4                         2                    0   49.98             49.98   \n",
       "5                         0                    0    0.00              0.00   \n",
       "7                         1                    0   16.99             16.99   \n",
       "...                     ...                  ...     ...               ...   \n",
       "1558                      0                    1   20.00              0.00   \n",
       "1559                      5                    0  185.95            185.95   \n",
       "1561                      2                    0   41.99             41.99   \n",
       "1563                      1                    0   35.99             35.99   \n",
       "1564                      0                    0    0.00              0.00   \n",
       "\n",
       "      Markdown Sales  \n",
       "1                0.0  \n",
       "2               75.0  \n",
       "4                0.0  \n",
       "5                0.0  \n",
       "7                0.0  \n",
       "...              ...  \n",
       "1558            20.0  \n",
       "1559             0.0  \n",
       "1561             0.0  \n",
       "1563             0.0  \n",
       "1564             0.0  \n",
       "\n",
       "[191 rows x 15 columns]"
      ]
     },
     "execution_count": 24,
     "metadata": {},
     "output_type": "execute_result"
    }
   ],
   "source": [
    "df.loc[new.index]"
   ]
  },
  {
   "cell_type": "code",
   "execution_count": 25,
   "id": "c7d824aa",
   "metadata": {},
   "outputs": [
    {
     "data": {
      "text/plain": [
       "Not-Clothing    259\n",
       "M                71\n",
       "L                70\n",
       "S                69\n",
       "XL               59\n",
       "               ... \n",
       "XST               1\n",
       "7.5WW             1\n",
       "7.5N              1\n",
       "7.5 4E            1\n",
       "3.5               1\n",
       "Name: Size, Length: 230, dtype: int64"
      ]
     },
     "execution_count": 25,
     "metadata": {},
     "output_type": "execute_result"
    }
   ],
   "source": [
    "df['Size'].value_counts()"
   ]
  },
  {
   "cell_type": "markdown",
   "id": "e98df9c5",
   "metadata": {},
   "source": [
    "All this modification reduced the size column by a factor of 2! \n",
    "\n",
    "A possible continuation could be to ignore sizes that have only 1 occurrence, but this wouldn't be wise. If this analysis was solely based on conclusions of size, the idea of ignoring one-off sized items could be valid. However, since there are multiple factors that these one-off sized items can contribute to, such as sale or full price profit margins, they will be preserved."
   ]
  },
  {
   "cell_type": "code",
   "execution_count": 26,
   "id": "470d13aa",
   "metadata": {},
   "outputs": [
    {
     "ename": "SyntaxError",
     "evalue": "invalid syntax (2149321911.py, line 1)",
     "output_type": "error",
     "traceback": [
      "\u001b[0;36m  Cell \u001b[0;32mIn[26], line 1\u001b[0;36m\u001b[0m\n\u001b[0;31m    AVG PRICE per dep\u001b[0m\n\u001b[0m        ^\u001b[0m\n\u001b[0;31mSyntaxError\u001b[0m\u001b[0;31m:\u001b[0m invalid syntax\n"
     ]
    }
   ],
   "source": [
    "AVG PRICE per dep"
   ]
  }
 ],
 "metadata": {
  "kernelspec": {
   "display_name": "Python 3 (ipykernel)",
   "language": "python",
   "name": "python3"
  },
  "language_info": {
   "codemirror_mode": {
    "name": "ipython",
    "version": 3
   },
   "file_extension": ".py",
   "mimetype": "text/x-python",
   "name": "python",
   "nbconvert_exporter": "python",
   "pygments_lexer": "ipython3",
   "version": "3.11.4"
  }
 },
 "nbformat": 4,
 "nbformat_minor": 5
}
